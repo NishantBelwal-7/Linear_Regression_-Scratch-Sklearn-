{
 "cells": [
  {
   "cell_type": "code",
   "execution_count": 1,
   "metadata": {},
   "outputs": [],
   "source": [
    "import pandas as pd\n",
    "import numpy as np\n",
    "import matplotlib.pyplot as plt\n"
   ]
  },
  {
   "cell_type": "code",
   "execution_count": 2,
   "metadata": {},
   "outputs": [],
   "source": [
    "df = pd.read_csv(r\"D:\\Machine Learning\\Dataset_unziped\\Machine learning lab\\salary_data.csv\")"
   ]
  },
  {
   "cell_type": "code",
   "execution_count": 3,
   "metadata": {},
   "outputs": [
    {
     "data": {
      "text/html": [
       "<div>\n",
       "<style scoped>\n",
       "    .dataframe tbody tr th:only-of-type {\n",
       "        vertical-align: middle;\n",
       "    }\n",
       "\n",
       "    .dataframe tbody tr th {\n",
       "        vertical-align: top;\n",
       "    }\n",
       "\n",
       "    .dataframe thead th {\n",
       "        text-align: right;\n",
       "    }\n",
       "</style>\n",
       "<table border=\"1\" class=\"dataframe\">\n",
       "  <thead>\n",
       "    <tr style=\"text-align: right;\">\n",
       "      <th></th>\n",
       "      <th>YearsExperience</th>\n",
       "      <th>Salary</th>\n",
       "    </tr>\n",
       "  </thead>\n",
       "  <tbody>\n",
       "    <tr>\n",
       "      <th>0</th>\n",
       "      <td>1.1</td>\n",
       "      <td>39343</td>\n",
       "    </tr>\n",
       "    <tr>\n",
       "      <th>1</th>\n",
       "      <td>1.3</td>\n",
       "      <td>46205</td>\n",
       "    </tr>\n",
       "    <tr>\n",
       "      <th>2</th>\n",
       "      <td>1.5</td>\n",
       "      <td>37731</td>\n",
       "    </tr>\n",
       "    <tr>\n",
       "      <th>3</th>\n",
       "      <td>2.0</td>\n",
       "      <td>43525</td>\n",
       "    </tr>\n",
       "    <tr>\n",
       "      <th>4</th>\n",
       "      <td>2.2</td>\n",
       "      <td>39891</td>\n",
       "    </tr>\n",
       "  </tbody>\n",
       "</table>\n",
       "</div>"
      ],
      "text/plain": [
       "   YearsExperience  Salary\n",
       "0              1.1   39343\n",
       "1              1.3   46205\n",
       "2              1.5   37731\n",
       "3              2.0   43525\n",
       "4              2.2   39891"
      ]
     },
     "execution_count": 3,
     "metadata": {},
     "output_type": "execute_result"
    }
   ],
   "source": [
    "df.head()"
   ]
  },
  {
   "cell_type": "code",
   "execution_count": 4,
   "metadata": {},
   "outputs": [],
   "source": [
    "def mean(data):\n",
    "    sum_m = 0\n",
    "    for i in range(len(data)):\n",
    "        sum_m = sum_m + data[i]\n",
    "            \n",
    "            \n",
    "    mean_cal = sum_m/len(data)\n",
    "    return mean_cal"
   ]
  },
  {
   "cell_type": "code",
   "execution_count": 5,
   "metadata": {},
   "outputs": [],
   "source": [
    "def variance(data,mean_x):\n",
    "    sum_v = 0\n",
    "    for i in range(len(data)):\n",
    "        sum_v = sum_v + (data[i]-mean_x)**2\n",
    "        \n",
    "    variance_cal = sum_v/len(data)\n",
    "    return variance_cal\n",
    "    "
   ]
  },
  {
   "cell_type": "code",
   "execution_count": 6,
   "metadata": {},
   "outputs": [],
   "source": [
    "def covariance(x,y,mean_x,mean_y):\n",
    "    sum_cov = 0\n",
    "    for i in range(len(x)):\n",
    "        sum_cov = sum_cov + (x[i]-mean_x)*(y[i]-mean_y)\n",
    "        \n",
    "    covariance_cal = sum_cov/(len(x)-1)\n",
    "    return covariance_cal"
   ]
  },
  {
   "cell_type": "code",
   "execution_count": 7,
   "metadata": {},
   "outputs": [],
   "source": [
    "mean_x = mean(df['YearsExperience'])\n",
    "mean_y = mean(df['Salary'])"
   ]
  },
  {
   "cell_type": "code",
   "execution_count": 8,
   "metadata": {},
   "outputs": [],
   "source": [
    "var = variance(df['YearsExperience'],mean_x)"
   ]
  },
  {
   "cell_type": "code",
   "execution_count": 9,
   "metadata": {},
   "outputs": [],
   "source": [
    "cov = covariance(df['YearsExperience'],df['Salary'],mean_x,mean_y)"
   ]
  },
  {
   "cell_type": "code",
   "execution_count": 10,
   "metadata": {},
   "outputs": [
    {
     "name": "stdout",
     "output_type": "stream",
     "text": [
      "Mean Of Years of Experience = 5.3133333333333335 \n",
      "Mean of Salary = 76003.0\n",
      "Variance =  7.785155555555554\n",
      "Covariance = 76106.30344827585\n"
     ]
    }
   ],
   "source": [
    "print(\"Mean Of Years of Experience =\",mean_x,\"\\nMean of Salary =\",mean_y)\n",
    "print(\"Variance = \",var)\n",
    "print(\"Covariance =\",cov)"
   ]
  },
  {
   "cell_type": "code",
   "execution_count": 11,
   "metadata": {},
   "outputs": [],
   "source": [
    "def sum_all_sq(data):\n",
    "    sum_al_sq = 0\n",
    "    for i in range(len(data)):\n",
    "        sum_al_sq = sum_al_sq + data[i]*data[i]\n",
    "        \n",
    "    return sum_al_sq"
   ]
  },
  {
   "cell_type": "code",
   "execution_count": 12,
   "metadata": {},
   "outputs": [],
   "source": [
    "def sum_all(data):\n",
    "    sum_al = 0\n",
    "    for i in range(len(data)):\n",
    "        sum_al = sum_al + data[i]\n",
    "        \n",
    "    return sum_al"
   ]
  },
  {
   "cell_type": "code",
   "execution_count": 13,
   "metadata": {},
   "outputs": [],
   "source": [
    "def sum_all_m(data_x,data_y):\n",
    "    sum_al_m = 0\n",
    "    for i in range(len(data_x)):\n",
    "        sum_al_m = sum_al_m + data_x[i]*data_y[i]\n",
    "        \n",
    "    return sum_al_m"
   ]
  },
  {
   "cell_type": "code",
   "execution_count": 14,
   "metadata": {},
   "outputs": [],
   "source": [
    "def slope_intercept(data_x,data_y):\n",
    "    x_sum = sum_all(data_x)\n",
    "    y_sum = sum_all(data_y)\n",
    "    xy_sum = sum_all_m(data_x,data_y)\n",
    "    x2_sum = sum_all_sq(data_x)\n",
    "    \n",
    "    n = len(data_x)\n",
    "    \n",
    "    slope_y = (n*xy_sum - (x_sum*y_sum))/(n*x2_sum - x_sum**2)\n",
    "    intercept = (y_sum - (slope_y*x_sum))/n\n",
    "    return slope_y,intercept\n"
   ]
  },
  {
   "cell_type": "code",
   "execution_count": 15,
   "metadata": {},
   "outputs": [],
   "source": [
    "m2 = slope_intercept(df['YearsExperience'],df['Salary'])"
   ]
  },
  {
   "cell_type": "code",
   "execution_count": 16,
   "metadata": {},
   "outputs": [],
   "source": [
    "def plot_line(data_x,data_y,slope,intercept,err):\n",
    "    plt.scatter(data_x, data_y, color = \"m\", marker = \"o\", s = 30) \n",
    "  \n",
    "    y_pred = intercept + slope*data_x +err\n",
    "  \n",
    "    plt.plot(data_x, y_pred, color = \"g\") \n",
    "  \n",
    "    plt.xlabel('Experience in years') \n",
    "    plt.ylabel('Salary') \n",
    "  \n",
    "    # function to show plot \n",
    "    plt.show() \n",
    "    "
   ]
  },
  {
   "cell_type": "code",
   "execution_count": 17,
   "metadata": {},
   "outputs": [
    {
     "data": {
      "image/png": "[encoded data removed]",
      "text/plain": [
       "<Figure size 432x288 with 1 Axes>"
      ]
     },
     "metadata": {
      "needs_background": "light"
     },
     "output_type": "display_data"
    }
   ],
   "source": [
    "plot_line(df['YearsExperience'],df['Salary'],m2[0],m2[1],0)"
   ]
  },
  {
   "cell_type": "code",
   "execution_count": 18,
   "metadata": {},
   "outputs": [
    {
     "name": "stdout",
     "output_type": "stream",
     "text": [
      "Intercept =  25792.200198668685 \n",
      "Slope =  9449.962321455077\n"
     ]
    }
   ],
   "source": [
    "print(\"Intercept = \",m2[1],\"\\nSlope = \",m2[0])"
   ]
  },
  {
   "cell_type": "code",
   "execution_count": 19,
   "metadata": {},
   "outputs": [],
   "source": [
    "def mean_abs_error(data_y,pred_y):\n",
    "    err_sum = 0\n",
    "    for i in range(len(data_y)):\n",
    "        err_sum = data_y[i] - pred_y[i]\n",
    "        \n",
    "    return err_sum/len(data_y)"
   ]
  },
  {
   "cell_type": "code",
   "execution_count": 20,
   "metadata": {},
   "outputs": [],
   "source": [
    "y_pred = m2[1] + m2[0]*df['YearsExperience'] "
   ]
  },
  {
   "cell_type": "code",
   "execution_count": 21,
   "metadata": {},
   "outputs": [],
   "source": [
    "err = mean_abs_error(df['Salary'],y_pred)"
   ]
  },
  {
   "cell_type": "code",
   "execution_count": 22,
   "metadata": {},
   "outputs": [
    {
     "data": {
      "image/png": "[encoded data removed]",
      "text/plain": [
       "<Figure size 432x288 with 1 Axes>"
      ]
     },
     "metadata": {
      "needs_background": "light"
     },
     "output_type": "display_data"
    }
   ],
   "source": [
    "plot_line(df['YearsExperience'],df['Salary'],m2[0],m2[1],err)"
   ]
  },
  {
   "cell_type": "code",
   "execution_count": 23,
   "metadata": {},
   "outputs": [
    {
     "data": {
      "text/plain": [
       "-104.82681913156654"
      ]
     },
     "execution_count": 23,
     "metadata": {},
     "output_type": "execute_result"
    }
   ],
   "source": [
    "err"
   ]
  },
  {
   "cell_type": "code",
   "execution_count": null,
   "metadata": {},
   "outputs": [],
   "source": []
  }
 ],
 "metadata": {
  "kernelspec": {
   "display_name": "Python 3",
   "language": "python",
   "name": "python3"
  },
  "language_info": {
   "codemirror_mode": {
    "name": "ipython",
    "version": 3
   },
   "file_extension": ".py",
   "mimetype": "text/x-python",
   "name": "python",
   "nbconvert_exporter": "python",
   "pygments_lexer": "ipython3",
   "version": "3.8.5"
  }
 },
 "nbformat": 4,
 "nbformat_minor": 4
}
